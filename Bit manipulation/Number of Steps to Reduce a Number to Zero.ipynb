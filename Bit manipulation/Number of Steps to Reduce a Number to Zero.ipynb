{
 "cells": [
  {
   "cell_type": "code",
   "execution_count": null,
   "metadata": {},
   "outputs": [],
   "source": [
    "'''\n",
    "Problem link: https://leetcode.com/problems/number-of-steps-to-reduce-a-number-to-zero/\n",
    "Problem: \n",
    "Given a non-negative integer num, return the number of steps to reduce it to zero.\n",
    "If the current number is even, you have to divide it by 2, otherwise, you have to subtract 1 from it.\n",
    "\n",
    "Note: If least significant bit is 0, the number is even\n",
    "'''\n",
    "class Solution:\n",
    "    def numberOfSteps (self, num: int) -> int:\n",
    "        if num==0:\n",
    "            return 0\n",
    "        count=0\n",
    "        while(num!=0):\n",
    "            if num & 1==0:\n",
    "                count+=1\n",
    "            else:\n",
    "                count+=2\n",
    "            num>>=1\n",
    "        return count-1\n",
    "        \n",
    "        "
   ]
  }
 ],
 "metadata": {
  "kernelspec": {
   "display_name": "Python 3",
   "language": "python",
   "name": "python3"
  },
  "language_info": {
   "codemirror_mode": {
    "name": "ipython",
    "version": 3
   },
   "file_extension": ".py",
   "mimetype": "text/x-python",
   "name": "python",
   "nbconvert_exporter": "python",
   "pygments_lexer": "ipython3",
   "version": "3.7.4"
  }
 },
 "nbformat": 4,
 "nbformat_minor": 2
}
